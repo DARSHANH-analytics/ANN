{
  "nbformat": 4,
  "nbformat_minor": 0,
  "metadata": {
    "colab": {
      "name": "Spark.ipynb",
      "provenance": [],
      "collapsed_sections": [],
      "mount_file_id": "1-8qF4tTj2V1MM0FRDs8cYH1NXIQJNe2e",
      "authorship_tag": "ABX9TyM78OXaQZAdQ3lXgNwtwy13",
      "include_colab_link": true
    },
    "kernelspec": {
      "name": "python3",
      "display_name": "Python 3"
    },
    "language_info": {
      "name": "python"
    }
  },
  "cells": [
    {
      "cell_type": "markdown",
      "metadata": {
        "id": "view-in-github",
        "colab_type": "text"
      },
      "source": [
        "<a href=\"https://colab.research.google.com/github/DARSHANH-analytics/ANN/blob/master/Spark.ipynb\" target=\"_parent\"><img src=\"https://colab.research.google.com/assets/colab-badge.svg\" alt=\"Open In Colab\"/></a>"
      ]
    },
    {
      "cell_type": "code",
      "execution_count": 1,
      "metadata": {
        "id": "ZPLu-nio8nfy"
      },
      "outputs": [],
      "source": [
        "#!pip install pyspark\n",
        "from pyspark import SparkContext,SQLContext, SparkConf,StorageLevel\n",
        "import numpy as np\n",
        "from decimal import Decimal\n",
        "import matplotlib.pyplot as plt;plt.rcdefaults()\n",
        "from __future__ import division"
      ]
    },
    {
      "cell_type": "code",
      "source": [
        "SparkConf = SparkConf().setAppName(\"ODI\").setMaster(\"local[3]\")\n",
        "# here local : Run Spark locally with one worker thread (i.e. no parallelism at all).\n",
        "# local[K] : Run Spark locally with K worker threads (ideally, set this to the number of cores on your machine).\n",
        "sc = SparkContext(conf=SparkConf)"
      ],
      "metadata": {
        "id": "Q9QIQ9uH9Qwp"
      },
      "execution_count": 2,
      "outputs": []
    },
    {
      "cell_type": "code",
      "source": [
        "captains_odis = sc.textFile(\"/content/drive/MyDrive/Colab Notebooks/ODI_data.csv\",4,use_unicode=True).repartition(6)"
      ],
      "metadata": {
        "id": "DN_eIT-K9X0-"
      },
      "execution_count": 13,
      "outputs": []
    },
    {
      "cell_type": "code",
      "source": [
        "captains_odis.take(5)"
      ],
      "metadata": {
        "colab": {
          "base_uri": "https://localhost:8080/"
        },
        "id": "1EAMq2s29bPK",
        "outputId": "99577556-b31e-425f-e8e5-188e7d21efb8"
      },
      "execution_count": 15,
      "outputs": [
        {
          "output_type": "execute_result",
          "data": {
            "text/plain": [
              "['49,Mohammad Hafeez (PAK),2003-2019,218,216,15,6614,140*,32.9,8633,76.61,11,38,19,',\n",
              " '0,GW Flower (ZIM),1992-2010,221,214,18,6571,142*,33.52,9723,67.58,6,40,18,',\n",
              " '1,Ijaz Ahmed (PAK),1986-2000,250,232,29,6564,139*,32.33,8174,80.3,10,37,14,',\n",
              " '2,AR Border (AUS),1979-1994,273,252,39,6524,127*,30.62,9134,71.42,3,39,11,',\n",
              " '3,Shakib Al Hasan (BDESH),2006-2019,206,194,27,6323,134*,37.86,7641,82.75,9,47,10,']"
            ]
          },
          "metadata": {},
          "execution_count": 15
        }
      ]
    },
    {
      "cell_type": "code",
      "source": [
        ""
      ],
      "metadata": {
        "id": "l31AllF3EieX"
      },
      "execution_count": null,
      "outputs": []
    }
  ]
}