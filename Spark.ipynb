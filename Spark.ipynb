{
  "nbformat": 4,
  "nbformat_minor": 0,
  "metadata": {
    "colab": {
      "name": "Spark.ipynb",
      "provenance": [],
      "collapsed_sections": [],
      "mount_file_id": "1-8qF4tTj2V1MM0FRDs8cYH1NXIQJNe2e",
      "authorship_tag": "ABX9TyOX1Zx3r8A1U9fUvyVuqpRC",
      "include_colab_link": true
    },
    "kernelspec": {
      "name": "python3",
      "display_name": "Python 3"
    },
    "language_info": {
      "name": "python"
    }
  },
  "cells": [
    {
      "cell_type": "markdown",
      "metadata": {
        "id": "view-in-github",
        "colab_type": "text"
      },
      "source": [
        "<a href=\"https://colab.research.google.com/github/DARSHANH-analytics/ANN/blob/master/Spark.ipynb\" target=\"_parent\"><img src=\"https://colab.research.google.com/assets/colab-badge.svg\" alt=\"Open In Colab\"/></a>"
      ]
    },
    {
      "cell_type": "code",
      "execution_count": 1,
      "metadata": {
        "id": "ZPLu-nio8nfy"
      },
      "outputs": [],
      "source": [
        "#!pip install pyspark\n",
        "from pyspark import SparkContext,SQLContext, SparkConf,StorageLevel\n",
        "import numpy as np\n",
        "from decimal import Decimal\n",
        "import matplotlib.pyplot as plt;plt.rcdefaults()\n",
        "from __future__ import division"
      ]
    },
    {
      "cell_type": "code",
      "source": [
        "SparkConf = SparkConf().setAppName(\"ODI\").setMaster(\"local[3]\")\n",
        "# here local : Run Spark locally with one worker thread (i.e. no parallelism at all).\n",
        "# local[K] : Run Spark locally with K worker threads (ideally, set this to the number of cores on your machine).\n",
        "sc = SparkContext(conf=SparkConf)"
      ],
      "metadata": {
        "id": "Q9QIQ9uH9Qwp"
      },
      "execution_count": 2,
      "outputs": []
    },
    {
      "cell_type": "code",
      "source": [
        "Player_odis = sc.textFile(\"/content/drive/MyDrive/Colab Notebooks/ODI_data.csv\",4,use_unicode=True).repartition(6)"
      ],
      "metadata": {
        "id": "DN_eIT-K9X0-"
      },
      "execution_count": 20,
      "outputs": []
    },
    {
      "cell_type": "code",
      "source": [
        "Player_odis.take(5)"
      ],
      "metadata": {
        "colab": {
          "base_uri": "https://localhost:8080/"
        },
        "id": "1EAMq2s29bPK",
        "outputId": "fdad42e1-20a0-46fa-adf6-1aafbf841e2f"
      },
      "execution_count": 21,
      "outputs": [
        {
          "output_type": "execute_result",
          "data": {
            "text/plain": [
              "['0,GW Flower (ZIM),19922010,221,214,18,6571,142*,33.52,9723,67.58,6,40,18',\n",
              " '1,Ijaz Ahmed (PAK),19862000,250,232,29,6564,139*,32.33,8174,80.3,10,37,14',\n",
              " '2,AR Border (AUS),19791994,273,252,39,6524,127*,30.62,9134,71.42,3,39,11',\n",
              " '3,Shakib Al Hasan (BDESH),20062019,206,194,27,6323,134*,37.86,7641,82.75,9,47,10',\n",
              " '4,BRM Taylor (ZIM),20042019,193,192,15,6293,145*,35.55,8256,76.22,10,38,15']"
            ]
          },
          "metadata": {},
          "execution_count": 21
        }
      ]
    },
    {
      "cell_type": "code",
      "source": [
        "columns = 'SI_NO,Player,Span,Mat,Inns,NO,Runs,HS,Ave,BF,SR,No_of_100s,No_of_50s,No_of_0s'.split(',')\n",
        "tuple(columns)"
      ],
      "metadata": {
        "colab": {
          "base_uri": "https://localhost:8080/"
        },
        "id": "l31AllF3EieX",
        "outputId": "75f646a5-0aff-4556-9312-fccbc11cae8d"
      },
      "execution_count": 22,
      "outputs": [
        {
          "output_type": "execute_result",
          "data": {
            "text/plain": [
              "('SI_NO',\n",
              " 'Player',\n",
              " 'Span',\n",
              " 'Mat',\n",
              " 'Inns',\n",
              " 'NO',\n",
              " 'Runs',\n",
              " 'HS',\n",
              " 'Ave',\n",
              " 'BF',\n",
              " 'SR',\n",
              " 'No_of_100s',\n",
              " 'No_of_50s',\n",
              " 'No_of_0s')"
            ]
          },
          "metadata": {},
          "execution_count": 22
        }
      ]
    },
    {
      "cell_type": "code",
      "source": [
        "from collections import namedtuple\n",
        "Player = namedtuple('Player',tuple(columns))\n",
        "def parserec(line):\n",
        "  fields = line.split(',')\n",
        "  for i in range(0,len(fields)):\n",
        "    if fields[i] is None or fields[i] == '':\n",
        "      fields[i] = 0\n",
        "  return Player(int(fields[0]),fields[1],int(fields[2]),int(fields[3]),int(fields[4]),int(fields[5]),int(fields[6]),fields[7],float(fields[8]),\\\n",
        "                int(fields[9]),float(fields[10]),int(fields[11]),int(fields[12]),int(fields[13]))\n",
        "Players = Player_odis.map(lambda rec: parserec(rec))"
      ],
      "metadata": {
        "id": "_uxLkpehIvjP"
      },
      "execution_count": 24,
      "outputs": []
    },
    {
      "cell_type": "code",
      "source": [
        "Players.take(10)\n",
        "# READING first 10 records"
      ],
      "metadata": {
        "colab": {
          "base_uri": "https://localhost:8080/"
        },
        "id": "3dAtFbQlKESU",
        "outputId": "a03459f0-edac-4885-e045-438b39ea365d"
      },
      "execution_count": 25,
      "outputs": [
        {
          "output_type": "execute_result",
          "data": {
            "text/plain": [
              "[Player(SI_NO=0, Player='GW Flower (ZIM)', Span=19922010, Mat=221, Inns=214, NO=18, Runs=6571, HS='142*', Ave=33.52, BF=9723, SR=67.58, No_of_100s=6, No_of_50s=40, No_of_0s=18),\n",
              " Player(SI_NO=1, Player='Ijaz Ahmed (PAK)', Span=19862000, Mat=250, Inns=232, NO=29, Runs=6564, HS='139*', Ave=32.33, BF=8174, SR=80.3, No_of_100s=10, No_of_50s=37, No_of_0s=14),\n",
              " Player(SI_NO=2, Player='AR Border (AUS)', Span=19791994, Mat=273, Inns=252, NO=39, Runs=6524, HS='127*', Ave=30.62, BF=9134, SR=71.42, No_of_100s=3, No_of_50s=39, No_of_0s=11),\n",
              " Player(SI_NO=3, Player='Shakib Al Hasan (BDESH)', Span=20062019, Mat=206, Inns=194, NO=27, Runs=6323, HS='134*', Ave=37.86, BF=7641, SR=82.75, No_of_100s=9, No_of_50s=47, No_of_0s=10),\n",
              " Player(SI_NO=4, Player='BRM Taylor (ZIM)', Span=20042019, Mat=193, Inns=192, NO=15, Runs=6293, HS='145*', Ave=35.55, BF=8256, SR=76.22, No_of_100s=10, No_of_50s=38, No_of_0s=15),\n",
              " Player(SI_NO=5, Player='RB Richardson (WI)', Span=19831996, Mat=224, Inns=217, NO=30, Runs=6248, HS='122', Ave=33.41, BF=9801, SR=63.74, No_of_100s=5, No_of_50s=44, No_of_0s=8),\n",
              " Player(SI_NO=6, Player='ML Hayden (AUS/ICC)', Span=19932008, Mat=161, Inns=155, NO=15, Runs=6133, HS='181*', Ave=43.8, BF=7767, SR=78.96, No_of_100s=10, No_of_50s=36, No_of_0s=9),\n",
              " Player(SI_NO=7, Player='KS Williamson (NZ)', Span=20102019, Mat=149, Inns=142, NO=14, Runs=6132, HS='148', Ave=47.9, BF=7494, SR=81.82, No_of_100s=13, No_of_50s=39, No_of_0s=5),\n",
              " Player(SI_NO=8, Player='Mushfiqur Rahim (BDESH)', Span=20062019, Mat=216, Inns=202, NO=34, Runs=6100, HS='144', Ave=36.3, BF=7718, SR=79.03, No_of_100s=7, No_of_50s=37, No_of_0s=10),\n",
              " Player(SI_NO=9, Player='BB McCullum (NZ)', Span=20022016, Mat=260, Inns=228, NO=28, Runs=6083, HS='166', Ave=30.41, BF=6312, SR=96.37, No_of_100s=5, No_of_50s=32, No_of_0s=20)]"
            ]
          },
          "metadata": {},
          "execution_count": 25
        }
      ]
    },
    {
      "cell_type": "code",
      "source": [
        "Players_Mat200 = Players.filter(lambda rec:rec.SI_NO < 10)\n",
        "Players_100s_SR = Players_Mat200.filter(lambda rec:rec.No_of_100s>=10 and rec.SR>80)\n",
        "Players_100s_SR.collect()\n",
        "# Applying filters transformation and specifying action"
      ],
      "metadata": {
        "colab": {
          "base_uri": "https://localhost:8080/"
        },
        "id": "8kMmmAq2Ol7j",
        "outputId": "300f4fbb-59b7-4154-87e5-beb60f4c7a07"
      },
      "execution_count": 30,
      "outputs": [
        {
          "output_type": "execute_result",
          "data": {
            "text/plain": [
              "[Player(SI_NO=1, Player='Ijaz Ahmed (PAK)', Span=19862000, Mat=250, Inns=232, NO=29, Runs=6564, HS='139*', Ave=32.33, BF=8174, SR=80.3, No_of_100s=10, No_of_50s=37, No_of_0s=14),\n",
              " Player(SI_NO=7, Player='KS Williamson (NZ)', Span=20102019, Mat=149, Inns=142, NO=14, Runs=6132, HS='148', Ave=47.9, BF=7494, SR=81.82, No_of_100s=13, No_of_50s=39, No_of_0s=5),\n",
              " Player(SI_NO=0, Player='SR Tendulkar (INDIA)', Span=19892012, Mat=463, Inns=452, NO=41, Runs=18426, HS='200*', Ave=44.83, BF=21367, SR=86.23, No_of_100s=49, No_of_50s=96, No_of_0s=20),\n",
              " Player(SI_NO=2, Player='RT Ponting (AUS/ICC)', Span=19952012, Mat=375, Inns=365, NO=39, Runs=13704, HS='164', Ave=42.03, BF=17046, SR=80.39, No_of_100s=30, No_of_50s=82, No_of_0s=20),\n",
              " Player(SI_NO=3, Player='ST Jayasuriya (Asia/SL)', Span=19892011, Mat=445, Inns=433, NO=18, Runs=13430, HS='189', Ave=32.36, BF=14725, SR=91.2, No_of_100s=28, No_of_50s=68, No_of_0s=34),\n",
              " Player(SI_NO=6, Player='V Kohli (INDIA)', Span=20082019, Mat=242, Inns=233, NO=39, Runs=11609, HS='183', Ave=59.84, BF=12445, SR=93.28, No_of_100s=43, No_of_50s=55, No_of_0s=13),\n",
              " Player(SI_NO=3, Player='ME Trescothick (ENG)', Span=20002006, Mat=123, Inns=122, NO=6, Runs=4335, HS='137', Ave=37.37, BF=5087, SR=85.21, No_of_100s=12, No_of_50s=21, No_of_0s=13)]"
            ]
          },
          "metadata": {},
          "execution_count": 30
        }
      ]
    },
    {
      "cell_type": "code",
      "source": [
        ""
      ],
      "metadata": {
        "id": "-v433QNcj3-L"
      },
      "execution_count": null,
      "outputs": []
    }
  ]
}